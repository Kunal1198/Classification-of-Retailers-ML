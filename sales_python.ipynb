{
 "cells": [
  {
   "cell_type": "code",
   "execution_count": 1,
   "metadata": {},
   "outputs": [],
   "source": [
    "#Step 1: Importing the libraries\n",
    "import numpy as np\n",
    "import pandas as pd \n",
    "import matplotlib.pyplot as plt\n",
    "import seaborn as sns"
   ]
  },
  {
   "cell_type": "code",
   "execution_count": 2,
   "metadata": {},
   "outputs": [],
   "source": [
    "#Step 2: Importing the sales excel dataset\n",
    "df=pd.read_excel('Case Study Data 1.xlsx')"
   ]
  },
  {
   "cell_type": "code",
   "execution_count": 9,
   "metadata": {},
   "outputs": [
    {
     "data": {
      "text/html": [
       "<div>\n",
       "<style scoped>\n",
       "    .dataframe tbody tr th:only-of-type {\n",
       "        vertical-align: middle;\n",
       "    }\n",
       "\n",
       "    .dataframe tbody tr th {\n",
       "        vertical-align: top;\n",
       "    }\n",
       "\n",
       "    .dataframe thead th {\n",
       "        text-align: right;\n",
       "    }\n",
       "</style>\n",
       "<table border=\"1\" class=\"dataframe\">\n",
       "  <thead>\n",
       "    <tr style=\"text-align: right;\">\n",
       "      <th></th>\n",
       "      <th>Retailer Name</th>\n",
       "      <th>Brand1</th>\n",
       "      <th>Brand2</th>\n",
       "      <th>Brand3</th>\n",
       "      <th>Brand4</th>\n",
       "      <th>Brand5</th>\n",
       "      <th>Brand6</th>\n",
       "      <th>Brand7</th>\n",
       "      <th>Brand8</th>\n",
       "      <th>Brand9</th>\n",
       "      <th>Brand10</th>\n",
       "      <th>Brand11</th>\n",
       "      <th>Brand12</th>\n",
       "      <th>Total Sales</th>\n",
       "      <th>Number of Brands</th>\n",
       "      <th>Category of Retailer</th>\n",
       "    </tr>\n",
       "  </thead>\n",
       "  <tbody>\n",
       "    <tr>\n",
       "      <th>0</th>\n",
       "      <td>Retailer 1</td>\n",
       "      <td>0.0000</td>\n",
       "      <td>0.0</td>\n",
       "      <td>0.0</td>\n",
       "      <td>0.000</td>\n",
       "      <td>0.0000</td>\n",
       "      <td>0.0</td>\n",
       "      <td>0.0</td>\n",
       "      <td>0.0</td>\n",
       "      <td>0.000</td>\n",
       "      <td>30826.61</td>\n",
       "      <td>0.0</td>\n",
       "      <td>0.0</td>\n",
       "      <td>30826.6100</td>\n",
       "      <td>1</td>\n",
       "      <td>NaN</td>\n",
       "    </tr>\n",
       "    <tr>\n",
       "      <th>1</th>\n",
       "      <td>Retailer 2</td>\n",
       "      <td>9833.1060</td>\n",
       "      <td>0.0</td>\n",
       "      <td>0.0</td>\n",
       "      <td>24073.632</td>\n",
       "      <td>33806.4312</td>\n",
       "      <td>0.0</td>\n",
       "      <td>0.0</td>\n",
       "      <td>0.0</td>\n",
       "      <td>0.000</td>\n",
       "      <td>0.00</td>\n",
       "      <td>0.0</td>\n",
       "      <td>0.0</td>\n",
       "      <td>67713.1692</td>\n",
       "      <td>3</td>\n",
       "      <td>NaN</td>\n",
       "    </tr>\n",
       "    <tr>\n",
       "      <th>2</th>\n",
       "      <td>Retailer 3</td>\n",
       "      <td>24690.6708</td>\n",
       "      <td>0.0</td>\n",
       "      <td>0.0</td>\n",
       "      <td>0.000</td>\n",
       "      <td>27367.0386</td>\n",
       "      <td>0.0</td>\n",
       "      <td>0.0</td>\n",
       "      <td>0.0</td>\n",
       "      <td>12948.696</td>\n",
       "      <td>0.00</td>\n",
       "      <td>0.0</td>\n",
       "      <td>0.0</td>\n",
       "      <td>65006.4054</td>\n",
       "      <td>3</td>\n",
       "      <td>NaN</td>\n",
       "    </tr>\n",
       "    <tr>\n",
       "      <th>3</th>\n",
       "      <td>Retailer 4</td>\n",
       "      <td>0.0000</td>\n",
       "      <td>0.0</td>\n",
       "      <td>0.0</td>\n",
       "      <td>0.000</td>\n",
       "      <td>0.0000</td>\n",
       "      <td>0.0</td>\n",
       "      <td>0.0</td>\n",
       "      <td>0.0</td>\n",
       "      <td>0.000</td>\n",
       "      <td>0.00</td>\n",
       "      <td>0.0</td>\n",
       "      <td>0.0</td>\n",
       "      <td>0.0000</td>\n",
       "      <td>0</td>\n",
       "      <td>NaN</td>\n",
       "    </tr>\n",
       "    <tr>\n",
       "      <th>4</th>\n",
       "      <td>Retailer 5</td>\n",
       "      <td>0.0000</td>\n",
       "      <td>0.0</td>\n",
       "      <td>0.0</td>\n",
       "      <td>0.000</td>\n",
       "      <td>0.0000</td>\n",
       "      <td>0.0</td>\n",
       "      <td>0.0</td>\n",
       "      <td>0.0</td>\n",
       "      <td>0.000</td>\n",
       "      <td>0.00</td>\n",
       "      <td>0.0</td>\n",
       "      <td>0.0</td>\n",
       "      <td>0.0000</td>\n",
       "      <td>0</td>\n",
       "      <td>NaN</td>\n",
       "    </tr>\n",
       "  </tbody>\n",
       "</table>\n",
       "</div>"
      ],
      "text/plain": [
       "  Retailer Name      Brand1  Brand2  Brand3     Brand4      Brand5  Brand6  \\\n",
       "0    Retailer 1      0.0000     0.0     0.0      0.000      0.0000     0.0   \n",
       "1    Retailer 2   9833.1060     0.0     0.0  24073.632  33806.4312     0.0   \n",
       "2    Retailer 3  24690.6708     0.0     0.0      0.000  27367.0386     0.0   \n",
       "3    Retailer 4      0.0000     0.0     0.0      0.000      0.0000     0.0   \n",
       "4    Retailer 5      0.0000     0.0     0.0      0.000      0.0000     0.0   \n",
       "\n",
       "   Brand7  Brand8     Brand9   Brand10  Brand11  Brand12  Total Sales  \\\n",
       "0     0.0     0.0      0.000  30826.61      0.0      0.0   30826.6100   \n",
       "1     0.0     0.0      0.000      0.00      0.0      0.0   67713.1692   \n",
       "2     0.0     0.0  12948.696      0.00      0.0      0.0   65006.4054   \n",
       "3     0.0     0.0      0.000      0.00      0.0      0.0       0.0000   \n",
       "4     0.0     0.0      0.000      0.00      0.0      0.0       0.0000   \n",
       "\n",
       "   Number of Brands  Category of Retailer  \n",
       "0                 1                   NaN  \n",
       "1                 3                   NaN  \n",
       "2                 3                   NaN  \n",
       "3                 0                   NaN  \n",
       "4                 0                   NaN  "
      ]
     },
     "execution_count": 9,
     "metadata": {},
     "output_type": "execute_result"
    }
   ],
   "source": [
    "df.head()"
   ]
  },
  {
   "cell_type": "code",
   "execution_count": 3,
   "metadata": {},
   "outputs": [
    {
     "data": {
      "text/plain": [
       "Retailer Name              0\n",
       "Brand1                     0\n",
       "Brand2                     0\n",
       "Brand3                     0\n",
       "Brand4                     0\n",
       "Brand5                     0\n",
       "Brand6                     0\n",
       "Brand7                     0\n",
       "Brand8                     0\n",
       "Brand9                     0\n",
       "Brand10                    0\n",
       "Brand11                    0\n",
       "Brand12                    0\n",
       "Total Sales                0\n",
       "Number of Brands           0\n",
       "Category of Retailer    9938\n",
       "dtype: int64"
      ]
     },
     "execution_count": 3,
     "metadata": {},
     "output_type": "execute_result"
    }
   ],
   "source": [
    "#Step 3: find missing values in dataset\n",
    "df.isnull().sum()"
   ]
  },
  {
   "cell_type": "code",
   "execution_count": 4,
   "metadata": {},
   "outputs": [
    {
     "data": {
      "text/plain": [
       "(9938, 16)"
      ]
     },
     "execution_count": 4,
     "metadata": {},
     "output_type": "execute_result"
    }
   ],
   "source": [
    "df.shape"
   ]
  },
  {
   "cell_type": "code",
   "execution_count": 5,
   "metadata": {},
   "outputs": [
    {
     "data": {
      "text/plain": [
       "Text(0,0.5,'Total Sales(Rupees)')"
      ]
     },
     "execution_count": 5,
     "metadata": {},
     "output_type": "execute_result"
    },
    {
     "data": {
      "image/png": "[encoded data removed]",
      "text/plain": [
       "<Figure size 432x288 with 1 Axes>"
      ]
     },
     "metadata": {
      "needs_background": "light"
     },
     "output_type": "display_data"
    }
   ],
   "source": [
    "#Step 4: Visualising the selected attributes for detecting any Outliers \n",
    "plt.scatter(df['Number of Brands'],df['Total Sales'])\n",
    "axes = plt.gca()\n",
    "axes.set_xlim([0,13])\n",
    "axes.set_ylim([0,400000])\n",
    "plt.xlabel('Number of Brands')\n",
    "plt.ylabel('Total Sales(Rupees)')"
   ]
  },
  {
   "cell_type": "code",
   "execution_count": 6,
   "metadata": {},
   "outputs": [],
   "source": [
    "#this index value had total sales in 76L(other index range till 7L only) \n",
    "#so this is a outlier\n",
    "df=df.drop(df.index[3972])"
   ]
  },
  {
   "cell_type": "code",
   "execution_count": 7,
   "metadata": {},
   "outputs": [
    {
     "data": {
      "text/plain": [
       "(9937, 16)"
      ]
     },
     "execution_count": 7,
     "metadata": {},
     "output_type": "execute_result"
    }
   ],
   "source": [
    "df.shape"
   ]
  },
  {
   "cell_type": "code",
   "execution_count": 8,
   "metadata": {},
   "outputs": [],
   "source": [
    "#Step 5: Selecting the attributes\n",
    "X=df.iloc[:,[13,14]].values"
   ]
  },
  {
   "cell_type": "code",
   "execution_count": 11,
   "metadata": {},
   "outputs": [
    {
     "data": {
      "text/plain": [
       "array([[3.08266100e+04, 1.00000000e+00],\n",
       "       [6.77131692e+04, 3.00000000e+00],\n",
       "       [6.50064054e+04, 3.00000000e+00],\n",
       "       ...,\n",
       "       [0.00000000e+00, 0.00000000e+00],\n",
       "       [4.83245740e+04, 2.00000000e+00],\n",
       "       [0.00000000e+00, 0.00000000e+00]])"
      ]
     },
     "execution_count": 11,
     "metadata": {},
     "output_type": "execute_result"
    }
   ],
   "source": [
    "X"
   ]
  },
  {
   "cell_type": "code",
   "execution_count": 12,
   "metadata": {},
   "outputs": [
    {
     "data": {
      "text/plain": [
       "0    6449\n",
       "1    1453\n",
       "2     717\n",
       "3     577\n",
       "4     355\n",
       "5     212\n",
       "6     103\n",
       "7      55\n",
       "8      14\n",
       "9       2\n",
       "Name: Number of Brands, dtype: int64"
      ]
     },
     "execution_count": 12,
     "metadata": {},
     "output_type": "execute_result"
    }
   ],
   "source": [
    "#Total count of Individual Number of Brands\n",
    "df[\"Number of Brands\"].value_counts()"
   ]
  },
  {
   "cell_type": "code",
   "execution_count": 13,
   "metadata": {},
   "outputs": [
    {
     "data": {
      "text/plain": [
       "<matplotlib.axes._subplots.AxesSubplot at 0xbe17530>"
      ]
     },
     "execution_count": 13,
     "metadata": {},
     "output_type": "execute_result"
    },
    {
     "data": {
      "image/png": "[encoded data removed]",
      "text/plain": [
       "<Figure size 432x288 with 1 Axes>"
      ]
     },
     "metadata": {
      "needs_background": "light"
     },
     "output_type": "display_data"
    }
   ],
   "source": [
    "#Plot\n",
    "sns.countplot(df['Number of Brands'])"
   ]
  },
  {
   "cell_type": "code",
   "execution_count": 14,
   "metadata": {},
   "outputs": [],
   "source": [
    "#Step 6: Scaling Feature Attribues using MinMaxScaler\n",
    "# Since both the attributes are very distinct\n",
    "from sklearn.preprocessing import MinMaxScaler\n",
    "scaler = MinMaxScaler()\n",
    "scaler.fit(X)\n",
    "X = scaler.transform(X)"
   ]
  },
  {
   "cell_type": "code",
   "execution_count": 15,
   "metadata": {},
   "outputs": [
    {
     "data": {
      "text/plain": [
       "array([[0.04562153, 0.11111111],\n",
       "       [0.10021143, 0.33333333],\n",
       "       [0.09620558, 0.33333333],\n",
       "       ...,\n",
       "       [0.        , 0.        ],\n",
       "       [0.07151747, 0.22222222],\n",
       "       [0.        , 0.        ]])"
      ]
     },
     "execution_count": 15,
     "metadata": {},
     "output_type": "execute_result"
    }
   ],
   "source": [
    "X"
   ]
  },
  {
   "cell_type": "code",
   "execution_count": 16,
   "metadata": {},
   "outputs": [],
   "source": [
    "#Step 7: Applying k-means clustering to the sales dataset\n",
    "#n_clusters=3 since categories are A,B & C\n",
    "from sklearn.cluster import KMeans\n",
    "km = KMeans(n_clusters=3)\n",
    "y_predict = km.fit_predict(X)"
   ]
  },
  {
   "cell_type": "code",
   "execution_count": 17,
   "metadata": {},
   "outputs": [
    {
     "data": {
      "text/plain": [
       "array([0, 2, 2, ..., 0, 2, 0])"
      ]
     },
     "execution_count": 17,
     "metadata": {},
     "output_type": "execute_result"
    }
   ],
   "source": [
    "y_predict"
   ]
  },
  {
   "cell_type": "code",
   "execution_count": 18,
   "metadata": {},
   "outputs": [],
   "source": [
    "#replacing the 'Category of Retailer' column with y_predict values\n",
    "df['Category of Retailer']=y_predict"
   ]
  },
  {
   "cell_type": "code",
   "execution_count": 19,
   "metadata": {},
   "outputs": [
    {
     "data": {
      "text/html": [
       "<div>\n",
       "<style scoped>\n",
       "    .dataframe tbody tr th:only-of-type {\n",
       "        vertical-align: middle;\n",
       "    }\n",
       "\n",
       "    .dataframe tbody tr th {\n",
       "        vertical-align: top;\n",
       "    }\n",
       "\n",
       "    .dataframe thead th {\n",
       "        text-align: right;\n",
       "    }\n",
       "</style>\n",
       "<table border=\"1\" class=\"dataframe\">\n",
       "  <thead>\n",
       "    <tr style=\"text-align: right;\">\n",
       "      <th></th>\n",
       "      <th>Retailer Name</th>\n",
       "      <th>Brand1</th>\n",
       "      <th>Brand2</th>\n",
       "      <th>Brand3</th>\n",
       "      <th>Brand4</th>\n",
       "      <th>Brand5</th>\n",
       "      <th>Brand6</th>\n",
       "      <th>Brand7</th>\n",
       "      <th>Brand8</th>\n",
       "      <th>Brand9</th>\n",
       "      <th>Brand10</th>\n",
       "      <th>Brand11</th>\n",
       "      <th>Brand12</th>\n",
       "      <th>Total Sales</th>\n",
       "      <th>Number of Brands</th>\n",
       "      <th>Category of Retailer</th>\n",
       "    </tr>\n",
       "  </thead>\n",
       "  <tbody>\n",
       "    <tr>\n",
       "      <th>0</th>\n",
       "      <td>Retailer 1</td>\n",
       "      <td>0.0000</td>\n",
       "      <td>0.0</td>\n",
       "      <td>0.0</td>\n",
       "      <td>0.000</td>\n",
       "      <td>0.0000</td>\n",
       "      <td>0.0</td>\n",
       "      <td>0.0</td>\n",
       "      <td>0.0</td>\n",
       "      <td>0.000</td>\n",
       "      <td>30826.61</td>\n",
       "      <td>0.0</td>\n",
       "      <td>0.0</td>\n",
       "      <td>30826.6100</td>\n",
       "      <td>1</td>\n",
       "      <td>0</td>\n",
       "    </tr>\n",
       "    <tr>\n",
       "      <th>1</th>\n",
       "      <td>Retailer 2</td>\n",
       "      <td>9833.1060</td>\n",
       "      <td>0.0</td>\n",
       "      <td>0.0</td>\n",
       "      <td>24073.632</td>\n",
       "      <td>33806.4312</td>\n",
       "      <td>0.0</td>\n",
       "      <td>0.0</td>\n",
       "      <td>0.0</td>\n",
       "      <td>0.000</td>\n",
       "      <td>0.00</td>\n",
       "      <td>0.0</td>\n",
       "      <td>0.0</td>\n",
       "      <td>67713.1692</td>\n",
       "      <td>3</td>\n",
       "      <td>2</td>\n",
       "    </tr>\n",
       "    <tr>\n",
       "      <th>2</th>\n",
       "      <td>Retailer 3</td>\n",
       "      <td>24690.6708</td>\n",
       "      <td>0.0</td>\n",
       "      <td>0.0</td>\n",
       "      <td>0.000</td>\n",
       "      <td>27367.0386</td>\n",
       "      <td>0.0</td>\n",
       "      <td>0.0</td>\n",
       "      <td>0.0</td>\n",
       "      <td>12948.696</td>\n",
       "      <td>0.00</td>\n",
       "      <td>0.0</td>\n",
       "      <td>0.0</td>\n",
       "      <td>65006.4054</td>\n",
       "      <td>3</td>\n",
       "      <td>2</td>\n",
       "    </tr>\n",
       "    <tr>\n",
       "      <th>3</th>\n",
       "      <td>Retailer 4</td>\n",
       "      <td>0.0000</td>\n",
       "      <td>0.0</td>\n",
       "      <td>0.0</td>\n",
       "      <td>0.000</td>\n",
       "      <td>0.0000</td>\n",
       "      <td>0.0</td>\n",
       "      <td>0.0</td>\n",
       "      <td>0.0</td>\n",
       "      <td>0.000</td>\n",
       "      <td>0.00</td>\n",
       "      <td>0.0</td>\n",
       "      <td>0.0</td>\n",
       "      <td>0.0000</td>\n",
       "      <td>0</td>\n",
       "      <td>0</td>\n",
       "    </tr>\n",
       "    <tr>\n",
       "      <th>4</th>\n",
       "      <td>Retailer 5</td>\n",
       "      <td>0.0000</td>\n",
       "      <td>0.0</td>\n",
       "      <td>0.0</td>\n",
       "      <td>0.000</td>\n",
       "      <td>0.0000</td>\n",
       "      <td>0.0</td>\n",
       "      <td>0.0</td>\n",
       "      <td>0.0</td>\n",
       "      <td>0.000</td>\n",
       "      <td>0.00</td>\n",
       "      <td>0.0</td>\n",
       "      <td>0.0</td>\n",
       "      <td>0.0000</td>\n",
       "      <td>0</td>\n",
       "      <td>0</td>\n",
       "    </tr>\n",
       "  </tbody>\n",
       "</table>\n",
       "</div>"
      ],
      "text/plain": [
       "  Retailer Name      Brand1  Brand2  Brand3     Brand4      Brand5  Brand6  \\\n",
       "0    Retailer 1      0.0000     0.0     0.0      0.000      0.0000     0.0   \n",
       "1    Retailer 2   9833.1060     0.0     0.0  24073.632  33806.4312     0.0   \n",
       "2    Retailer 3  24690.6708     0.0     0.0      0.000  27367.0386     0.0   \n",
       "3    Retailer 4      0.0000     0.0     0.0      0.000      0.0000     0.0   \n",
       "4    Retailer 5      0.0000     0.0     0.0      0.000      0.0000     0.0   \n",
       "\n",
       "   Brand7  Brand8     Brand9   Brand10  Brand11  Brand12  Total Sales  \\\n",
       "0     0.0     0.0      0.000  30826.61      0.0      0.0   30826.6100   \n",
       "1     0.0     0.0      0.000      0.00      0.0      0.0   67713.1692   \n",
       "2     0.0     0.0  12948.696      0.00      0.0      0.0   65006.4054   \n",
       "3     0.0     0.0      0.000      0.00      0.0      0.0       0.0000   \n",
       "4     0.0     0.0      0.000      0.00      0.0      0.0       0.0000   \n",
       "\n",
       "   Number of Brands  Category of Retailer  \n",
       "0                 1                     0  \n",
       "1                 3                     2  \n",
       "2                 3                     2  \n",
       "3                 0                     0  \n",
       "4                 0                     0  "
      ]
     },
     "execution_count": 19,
     "metadata": {},
     "output_type": "execute_result"
    }
   ],
   "source": [
    "df.head()"
   ]
  },
  {
   "cell_type": "code",
   "execution_count": 20,
   "metadata": {},
   "outputs": [
    {
     "data": {
      "text/plain": [
       "0    7870\n",
       "2    1326\n",
       "1     741\n",
       "Name: Category of Retailer, dtype: int64"
      ]
     },
     "execution_count": 20,
     "metadata": {},
     "output_type": "execute_result"
    }
   ],
   "source": [
    "#counting values of different clusters\n",
    "df['Category of Retailer'].value_counts()"
   ]
  },
  {
   "cell_type": "code",
   "execution_count": 22,
   "metadata": {},
   "outputs": [
    {
     "data": {
      "image/png": "[encoded data removed]",
      "text/plain": [
       "<Figure size 432x288 with 1 Axes>"
      ]
     },
     "metadata": {
      "needs_background": "light"
     },
     "output_type": "display_data"
    }
   ],
   "source": [
    "#Step 8: Now Visualise both the attributes w.r.t different clusters\n",
    "df1 = df[df['Category of Retailer']==0]\n",
    "df2 = df[df['Category of Retailer']==1]\n",
    "df3 = df[df['Category of Retailer']==2]\n",
    "plt.scatter(df1['Number of Brands'],df1['Total Sales'],color='black',label='C')\n",
    "plt.scatter(df2['Number of Brands'],df2['Total Sales'],color='red',label='A')\n",
    "plt.scatter(df3['Number of Brands'],df3['Total Sales'],color='green',label='B')\n",
    "axes = plt.gca()\n",
    "axes.set_xlim([0,13])\n",
    "axes.set_ylim([0,400000])\n",
    "plt.xlabel('Number of Brands')\n",
    "plt.ylabel('Total Sales')\n",
    "plt.legend()\n",
    "plt.show()"
   ]
  },
  {
   "cell_type": "code",
   "execution_count": 23,
   "metadata": {},
   "outputs": [],
   "source": [
    "#Step 9: Replacing cluster values 0,1&2 with Categories A, B and C\n",
    "df['Category of Retailer'] = df['Category of Retailer'].replace([2], 'B')\n",
    "df['Category of Retailer'] = df['Category of Retailer'].replace([1], 'A')\n",
    "df['Category of Retailer'] = df['Category of Retailer'].replace([0], 'C')"
   ]
  },
  {
   "cell_type": "code",
   "execution_count": 24,
   "metadata": {},
   "outputs": [
    {
     "data": {
      "text/html": [
       "<div>\n",
       "<style scoped>\n",
       "    .dataframe tbody tr th:only-of-type {\n",
       "        vertical-align: middle;\n",
       "    }\n",
       "\n",
       "    .dataframe tbody tr th {\n",
       "        vertical-align: top;\n",
       "    }\n",
       "\n",
       "    .dataframe thead th {\n",
       "        text-align: right;\n",
       "    }\n",
       "</style>\n",
       "<table border=\"1\" class=\"dataframe\">\n",
       "  <thead>\n",
       "    <tr style=\"text-align: right;\">\n",
       "      <th></th>\n",
       "      <th>Retailer Name</th>\n",
       "      <th>Brand1</th>\n",
       "      <th>Brand2</th>\n",
       "      <th>Brand3</th>\n",
       "      <th>Brand4</th>\n",
       "      <th>Brand5</th>\n",
       "      <th>Brand6</th>\n",
       "      <th>Brand7</th>\n",
       "      <th>Brand8</th>\n",
       "      <th>Brand9</th>\n",
       "      <th>Brand10</th>\n",
       "      <th>Brand11</th>\n",
       "      <th>Brand12</th>\n",
       "      <th>Total Sales</th>\n",
       "      <th>Number of Brands</th>\n",
       "      <th>Category of Retailer</th>\n",
       "    </tr>\n",
       "  </thead>\n",
       "  <tbody>\n",
       "    <tr>\n",
       "      <th>0</th>\n",
       "      <td>Retailer 1</td>\n",
       "      <td>0.0000</td>\n",
       "      <td>0.0</td>\n",
       "      <td>0.0</td>\n",
       "      <td>0.000</td>\n",
       "      <td>0.0000</td>\n",
       "      <td>0.0</td>\n",
       "      <td>0.0</td>\n",
       "      <td>0.0</td>\n",
       "      <td>0.000</td>\n",
       "      <td>30826.61</td>\n",
       "      <td>0.0</td>\n",
       "      <td>0.0</td>\n",
       "      <td>30826.6100</td>\n",
       "      <td>1</td>\n",
       "      <td>C</td>\n",
       "    </tr>\n",
       "    <tr>\n",
       "      <th>1</th>\n",
       "      <td>Retailer 2</td>\n",
       "      <td>9833.1060</td>\n",
       "      <td>0.0</td>\n",
       "      <td>0.0</td>\n",
       "      <td>24073.632</td>\n",
       "      <td>33806.4312</td>\n",
       "      <td>0.0</td>\n",
       "      <td>0.0</td>\n",
       "      <td>0.0</td>\n",
       "      <td>0.000</td>\n",
       "      <td>0.00</td>\n",
       "      <td>0.0</td>\n",
       "      <td>0.0</td>\n",
       "      <td>67713.1692</td>\n",
       "      <td>3</td>\n",
       "      <td>B</td>\n",
       "    </tr>\n",
       "    <tr>\n",
       "      <th>2</th>\n",
       "      <td>Retailer 3</td>\n",
       "      <td>24690.6708</td>\n",
       "      <td>0.0</td>\n",
       "      <td>0.0</td>\n",
       "      <td>0.000</td>\n",
       "      <td>27367.0386</td>\n",
       "      <td>0.0</td>\n",
       "      <td>0.0</td>\n",
       "      <td>0.0</td>\n",
       "      <td>12948.696</td>\n",
       "      <td>0.00</td>\n",
       "      <td>0.0</td>\n",
       "      <td>0.0</td>\n",
       "      <td>65006.4054</td>\n",
       "      <td>3</td>\n",
       "      <td>B</td>\n",
       "    </tr>\n",
       "    <tr>\n",
       "      <th>3</th>\n",
       "      <td>Retailer 4</td>\n",
       "      <td>0.0000</td>\n",
       "      <td>0.0</td>\n",
       "      <td>0.0</td>\n",
       "      <td>0.000</td>\n",
       "      <td>0.0000</td>\n",
       "      <td>0.0</td>\n",
       "      <td>0.0</td>\n",
       "      <td>0.0</td>\n",
       "      <td>0.000</td>\n",
       "      <td>0.00</td>\n",
       "      <td>0.0</td>\n",
       "      <td>0.0</td>\n",
       "      <td>0.0000</td>\n",
       "      <td>0</td>\n",
       "      <td>C</td>\n",
       "    </tr>\n",
       "    <tr>\n",
       "      <th>4</th>\n",
       "      <td>Retailer 5</td>\n",
       "      <td>0.0000</td>\n",
       "      <td>0.0</td>\n",
       "      <td>0.0</td>\n",
       "      <td>0.000</td>\n",
       "      <td>0.0000</td>\n",
       "      <td>0.0</td>\n",
       "      <td>0.0</td>\n",
       "      <td>0.0</td>\n",
       "      <td>0.000</td>\n",
       "      <td>0.00</td>\n",
       "      <td>0.0</td>\n",
       "      <td>0.0</td>\n",
       "      <td>0.0000</td>\n",
       "      <td>0</td>\n",
       "      <td>C</td>\n",
       "    </tr>\n",
       "  </tbody>\n",
       "</table>\n",
       "</div>"
      ],
      "text/plain": [
       "  Retailer Name      Brand1  Brand2  Brand3     Brand4      Brand5  Brand6  \\\n",
       "0    Retailer 1      0.0000     0.0     0.0      0.000      0.0000     0.0   \n",
       "1    Retailer 2   9833.1060     0.0     0.0  24073.632  33806.4312     0.0   \n",
       "2    Retailer 3  24690.6708     0.0     0.0      0.000  27367.0386     0.0   \n",
       "3    Retailer 4      0.0000     0.0     0.0      0.000      0.0000     0.0   \n",
       "4    Retailer 5      0.0000     0.0     0.0      0.000      0.0000     0.0   \n",
       "\n",
       "   Brand7  Brand8     Brand9   Brand10  Brand11  Brand12  Total Sales  \\\n",
       "0     0.0     0.0      0.000  30826.61      0.0      0.0   30826.6100   \n",
       "1     0.0     0.0      0.000      0.00      0.0      0.0   67713.1692   \n",
       "2     0.0     0.0  12948.696      0.00      0.0      0.0   65006.4054   \n",
       "3     0.0     0.0      0.000      0.00      0.0      0.0       0.0000   \n",
       "4     0.0     0.0      0.000      0.00      0.0      0.0       0.0000   \n",
       "\n",
       "   Number of Brands Category of Retailer  \n",
       "0                 1                    C  \n",
       "1                 3                    B  \n",
       "2                 3                    B  \n",
       "3                 0                    C  \n",
       "4                 0                    C  "
      ]
     },
     "execution_count": 24,
     "metadata": {},
     "output_type": "execute_result"
    }
   ],
   "source": [
    "df.head()"
   ]
  },
  {
   "cell_type": "code",
   "execution_count": null,
   "metadata": {},
   "outputs": [],
   "source": []
  }
 ],
 "metadata": {
  "kernelspec": {
   "display_name": "Python 3",
   "language": "python",
   "name": "python3"
  },
  "language_info": {
   "codemirror_mode": {
    "name": "ipython",
    "version": 3
   },
   "file_extension": ".py",
   "mimetype": "text/x-python",
   "name": "python",
   "nbconvert_exporter": "python",
   "pygments_lexer": "ipython3",
   "version": "3.6.4"
  }
 },
 "nbformat": 4,
 "nbformat_minor": 2
}
